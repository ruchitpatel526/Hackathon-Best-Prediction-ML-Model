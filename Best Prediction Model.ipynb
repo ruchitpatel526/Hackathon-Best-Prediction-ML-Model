{
 "cells": [
  {
   "cell_type": "markdown",
   "metadata": {},
   "source": [
    "#### Exam description\n",
    "For this exam, you will predict the target values for the test.csv. \n",
    "\n",
    "#### Your task:\n",
    "find a good machine learning model to predict the target value. Then predict the target values of the instances in the test.csv. \n",
    "\n",
    "#### Exam rules\n",
    "- You can use only the machine learning models discussed in this course. \n",
    "    - If the prediction is based on a model that is not discussed in class, one of the models in your submission will randomly be selected for grading. \n",
    "- Fifty percent of the grade is based on your Python code submission. The other 50 percent of your grade is based on the evaluation score of the prediction. \n",
    "- The exam should be syntax error-free. Run your code before the final submission. \n",
    "- Save the final prediction array as ``final_test_prediction``. \n",
    "- <font color = 'red'> The final prediction will be evaluated using the **roc_auc_score** function. </font>\n",
    "\n",
    "#### Devliverable\n",
    "Submit ONLY the iPython notebook or the .py file of your work. Use the following frame for your submission. Please don't remove the headers in the following structure. \n",
    "\n",
    "#### Rubric\n",
    "| Descriptio | Fair | Good | excelent |\n",
    "|:-----------|:------|:------|:----------|\n",
    "|Preprocessing|Demonstrate limited understanding of preprocessing steps | Demonstrate a moderate ability to find a way to apply the preprocessing step to prepare the dataset for Machine learning models | Demonstrate the ability to choose the appropriate preprocessing model to prepare the dataset |\n",
    "|Machine learning model | Demonstrate limited understanding of methods used to train machine learning models | Demonstrate the ability to understand techniques used to train machine learning models with some effectiveness. This includes optimization algorithms, initialization, regularization, and hyperparameter search methods | Demonstrate ability to understand and apply various algorithms as well as initialization, regularization, and hyperparameter search methods |\n",
    "|Final prediction |Demonstrate limited understanding of strategies to structure and end to end machine learning project | Demonstrate ability to understand classic ML strategies such as error analysis, data split, data collection and evaluation metric selection with some effectiveness | Demonstrates ability to structure the project and apply methods such as error analysis, data split, data collection, design a labeling process and select proper evaluation metrics to improve performance.\n",
    "\n",
    "#### Dataset\n",
    "This dataset is used to predict complications of Mycardial Infraction (MI) based on the information about the patient. The target value 0 is no complication and 1 means complication within the first three days of hospitalization. \n",
    "\n",
    "MI is one of the most challenging problems of modern medicine. Acute myocardial infarction is associated with high mortality in the first year after it. The incidence of MI remains high in all countries. This is especially true for the urban population of highly developed countries, which is exposed to chronic stress factors, irregular and not always balanced nutrition. In the United States, for example, more than a million people suffer from MI every year, and 200-300 thousand of them die from acute MI before arriving at the hospital.\n",
    "In this regard, predicting complications of myocardial infarction in order to timely carry out the necessary preventive measures is an important task.\n",
    "\n",
    "* Age\n",
    "* Gender\n",
    "* Myocardial:  Quantity of myocardial infarctions in the anamnesis – Ordinal\n",
    "* Exertional angina: Exertional angina pectoris in the anamnesis\n",
    "* FC: Functional class (FC) of angina pectoris in the last year – Ordinal\n",
    "* Heart Disease: Coronary heart disease (CHD) in recent weeks, days before admission to hospital\n",
    "* Heredity: Heredity on CHD\n",
    "* Hypertension: Presence of an essential hypertension\n",
    "* Symptomatic hypertension\n",
    "* Duration: Duration of arterial hypertension\n",
    "* Arrhythmia: Observing of arrhythmia in the anamnesis\n",
    "* Systolic_emergency: Systolic blood pressure according to Emergency Cardiology Team\n",
    "* Diastolic_emergency: Diastolic blood pressure according to Emergency Cardiology Team\n",
    "* Systolic_intensive_care: Systolic blood pressure according to intensive care unit\n",
    "* Diastolic_intensive_care: Diastolic blood pressure according to intensive care unit\n",
    "* Potassium: Serum potassium content\n",
    "* Sodium: Serum sodium content\n",
    "* AlAT: Serum AlAT content\n",
    "* AsTK: Serum AsTK content\n",
    "* WBC: White Blood Cell Count\n",
    "* ESR: Erythrocyte sedimentation rate\n",
    "* Time: Time elapsed from the beginning of the attack of CHD to the hospital\n",
    "* Outcome: target column"
   ]
  },
  {
   "cell_type": "code",
   "execution_count": 1,
   "metadata": {},
   "outputs": [],
   "source": [
    "#import standard libraries\n",
    "import pandas as pd\n",
    "import numpy as np\n",
    "import matplotlib.pyplot as plt\n",
    "%matplotlib inline\n",
    "import warnings\n",
    "warnings.filterwarnings(\"ignore\")\n",
    "import seaborn as sns\n",
    "from sklearn.neighbors import KNeighborsClassifier\n",
    "from sklearn.linear_model import LogisticRegression\n",
    "from sklearn.preprocessing import LabelEncoder\n",
    "from sklearn.svm import SVC\n",
    "from sklearn.model_selection import train_test_split\n",
    "from sklearn.tree import DecisionTreeClassifier\n",
    "from sklearn import model_selection\n",
    "from sklearn.preprocessing import MinMaxScaler,StandardScaler\n",
    "from sklearn import svm\n",
    "from sklearn.metrics import classification_report\n",
    "from sklearn.metrics import confusion_matrix\n",
    "from sklearn.metrics import accuracy_score\n",
    "from sklearn.model_selection import cross_val_score\n",
    "from sklearn.svm import LinearSVC,SVC\n",
    "from sklearn.model_selection import GridSearchCV\n",
    "from sklearn.metrics import recall_score, precision_score, f1_score\n",
    "from sklearn.metrics import precision_recall_curve\n",
    "from sklearn import svm\n",
    "from sklearn.svm import SVC\n",
    "from sklearn.metrics import roc_auc_score\n",
    "from sklearn.ensemble import BaggingClassifier"
   ]
  },
  {
   "cell_type": "code",
   "execution_count": 2,
   "metadata": {},
   "outputs": [],
   "source": [
    "# !pip install imblearn\n",
    "random_state=42"
   ]
  },
  {
   "cell_type": "markdown",
   "metadata": {},
   "source": [
    "# Preprocessing ``train.csv`` (15 points)"
   ]
  },
  {
   "cell_type": "code",
   "execution_count": 3,
   "metadata": {},
   "outputs": [],
   "source": [
    "#preprocessing train data set\n",
    "\n",
    "train = pd.read_csv(\"train.csv\")\n",
    "\n",
    "\n",
    "def preprocess(df, istrain=True):\n",
    "    ## Data Imputation\n",
    "    # Replace ? as NA (missing values)\n",
    "    df.replace(\"?\",np.nan,inplace=True)\n",
    "\n",
    "    # Keep rows having values in >=15 columns\n",
    "    if istrain:\n",
    "        df.dropna(thresh=15,inplace=True)\n",
    "\n",
    "    # Remove columns having NA>800\n",
    "    df.drop(['Heredity','Systolic_emergency', 'Diastolic_emergency'],axis=1,inplace=True)\n",
    "\n",
    "    # Fill with Median\n",
    "    df.Age.fillna(df.Age.median(),inplace=True)\n",
    "\n",
    "    df[['myocardial',\n",
    "           'Exertional angina',\n",
    "           'Heart Disease',\n",
    "           'FC',\n",
    "           'Hypertension',\n",
    "           'Symptomatic hypertension',\n",
    "           'Duration',\n",
    "           'Arrhythmia']] = df[['myocardial',\n",
    "           'Exertional angina',\n",
    "           'Heart Disease',\n",
    "           'FC',\n",
    "           'Hypertension',\n",
    "           'Symptomatic hypertension',\n",
    "           'Duration',\n",
    "            'Arrhythmia']].fillna(df.mode().iloc[0])\n",
    "\n",
    "    df[['Systolic_intensive_care',\n",
    "           'Diastolic_intensive_care',\n",
    "           'Potassium',\n",
    "           'Sodium',\n",
    "           'AlAT',\n",
    "           'AsAT',\n",
    "           'WBC',\n",
    "           'ESR',\n",
    "           'Time']] = df[['Systolic_intensive_care',\n",
    "           'Diastolic_intensive_care',\n",
    "           'Potassium',\n",
    "           'Sodium',\n",
    "           'AlAT',\n",
    "           'AsAT',\n",
    "           'WBC',\n",
    "           'ESR',\n",
    "           'Time']].astype(\"float\")\n",
    "\n",
    "\n",
    "    df[['Systolic_intensive_care',\n",
    "           'Diastolic_intensive_care',\n",
    "           'Potassium',\n",
    "           'Sodium',\n",
    "           'AlAT',\n",
    "           'AsAT',\n",
    "           'WBC',\n",
    "           'ESR',\n",
    "           'Time']] = df[['Systolic_intensive_care',\n",
    "           'Diastolic_intensive_care',\n",
    "           'Potassium',\n",
    "           'Sodium',\n",
    "           'AlAT',\n",
    "           'AsAT',\n",
    "           'WBC',\n",
    "           'ESR',\n",
    "           'Time']].fillna(df.mean())\n",
    "\n",
    "    df[['Systolic_intensive_care',\n",
    "           'Diastolic_intensive_care',\n",
    "           'Sodium',\n",
    "           'ESR',\n",
    "           'Time',\n",
    "           'myocardial']] = df[['Systolic_intensive_care',\n",
    "           'Diastolic_intensive_care',\n",
    "           'Sodium',\n",
    "           'ESR',\n",
    "           'Time',\n",
    "            'myocardial']].astype(\"int64\")\n",
    "\n",
    "\n",
    "    ## Data Transformation\n",
    "    df.Age = df.Age.astype(\"int64\")\n",
    "\n",
    "    df['FC'] = df['FC'].map({'No angina':0,'I FC':1,'II FC':2,'III FC':3,'IV FC':4})\n",
    "    df['Hypertension'] = df['Hypertension'].map({'No':0,'Stage 1':1,'Stage 2':2,'Stage 3':3})\n",
    "    df['Exertional angina'] = df['Exertional angina'].map({'Never':0,'During the last year':1,'One year ago':2,'Two years ago':3,'Three years ago':4,'Four to five years ago':5,'More than five years ago':6})\n",
    "    df['Gender'] = df['Gender'].map({'Female':0,'Male':1})\n",
    "    df['Symptomatic hypertension'] = df['Symptomatic hypertension'].map({'No':0,'Yes':1})\n",
    "    df['Arrhythmia'] = df['Arrhythmia'].map({'No':0,'Yes':1})\n",
    "    df['Duration'] = df['Duration'].map({'No hypertension':0,'One year':1,'Two years':2,'Three years':3,'Four years':4,'Five years':5,'Six to ten years':6,'More than 10 years':7})\n",
    "\n",
    "    # # Make Category Type\n",
    "    df['Heart Disease'] = df['Heart Disease'].astype(\"category\")\n",
    "    df = pd.get_dummies(df)\n",
    "    return df\n",
    "train = preprocess(train)"
   ]
  },
  {
   "cell_type": "code",
   "execution_count": 4,
   "metadata": {},
   "outputs": [],
   "source": [
    "scaler = MinMaxScaler()\n",
    "def scale(df):\n",
    "    return scaler.transform(df)"
   ]
  },
  {
   "cell_type": "code",
   "execution_count": 5,
   "metadata": {},
   "outputs": [
    {
     "data": {
      "text/plain": [
       "0    1037\n",
       "1     185\n",
       "Name: Outcome, dtype: int64"
      ]
     },
     "execution_count": 5,
     "metadata": {},
     "output_type": "execute_result"
    }
   ],
   "source": [
    "# The data is heavily imbalanced\n",
    "train['Outcome'].value_counts()"
   ]
  },
  {
   "cell_type": "code",
   "execution_count": 6,
   "metadata": {},
   "outputs": [],
   "source": [
    "X = train.loc[:,train.columns!=\"Outcome\"]\n",
    "y = train.loc[:,train.columns==\"Outcome\"]\n",
    "\n",
    "X_train, X_test, y_train, y_test = train_test_split(X,y,test_size=0.30,random_state=random_state)"
   ]
  },
  {
   "cell_type": "code",
   "execution_count": 7,
   "metadata": {},
   "outputs": [
    {
     "data": {
      "text/plain": [
       "0    726\n",
       "1    129\n",
       "Name: Outcome, dtype: int64"
      ]
     },
     "execution_count": 7,
     "metadata": {},
     "output_type": "execute_result"
    }
   ],
   "source": [
    "# The data is heavily imbalanced\n",
    "y_train['Outcome'].value_counts()"
   ]
  },
  {
   "cell_type": "code",
   "execution_count": 8,
   "metadata": {},
   "outputs": [
    {
     "data": {
      "text/plain": [
       "0    726\n",
       "1    715\n",
       "Name: Outcome, dtype: int64"
      ]
     },
     "execution_count": 8,
     "metadata": {},
     "output_type": "execute_result"
    }
   ],
   "source": [
    "from sklearn.utils import resample\n",
    "\n",
    "training =  pd.concat([X_train, y_train], axis=1)\n",
    "\n",
    "# Separate majority and minority classes\n",
    "train_majority = training[training.Outcome==0]\n",
    "train_minority = training[training.Outcome==1]\n",
    " \n",
    "# Upsample minority class\n",
    "train_minority_upsampled = resample(train_minority, \n",
    "                                    replace=True,     # sample with replacement\n",
    "                                    n_samples=715,    # to match majority class\n",
    "                                    random_state=random_state) # reproducible results\n",
    " \n",
    "# Combine majority class with upsampled minority class\n",
    "training = pd.concat([train_majority, train_minority_upsampled])\n",
    "\n",
    "X_train = training.loc[:,training.columns!=\"Outcome\"]\n",
    "y_train = training.loc[:,training.columns==\"Outcome\"]\n",
    " \n",
    "# Display new class counts\n",
    "y_train.Outcome.value_counts()"
   ]
  },
  {
   "cell_type": "code",
   "execution_count": 9,
   "metadata": {},
   "outputs": [],
   "source": [
    "X_train = scaler.fit_transform(X_train)\n",
    "X_test = scale(X_test)"
   ]
  },
  {
   "cell_type": "markdown",
   "metadata": {},
   "source": [
    "# Preprocessing ``test.csv`` (10 points)"
   ]
  },
  {
   "cell_type": "code",
   "execution_count": 10,
   "metadata": {},
   "outputs": [],
   "source": [
    "#preprocessing test dataset using same function used for train dataset\n",
    "\n",
    "test = pd.read_csv(\"test.csv\")\n",
    "test = preprocess(test,istrain=False)\n",
    "test = scale(test)"
   ]
  },
  {
   "cell_type": "markdown",
   "metadata": {},
   "source": [
    "# Machine learning models (20 points)"
   ]
  },
  {
   "cell_type": "markdown",
   "metadata": {},
   "source": [
    "<b>KNN Classifier </b>"
   ]
  },
  {
   "cell_type": "code",
   "execution_count": 11,
   "metadata": {
    "scrolled": true
   },
   "outputs": [
    {
     "name": "stdout",
     "output_type": "stream",
     "text": [
      "Fitting 7 folds for each of 76 candidates, totalling 532 fits\n"
     ]
    }
   ],
   "source": [
    "#Knn and gridsearch\n",
    "\n",
    "grid_knn_parameters = {'n_neighbors':range(1,20), 'p': [1,2],\n",
    "            'weights': ['uniform','distance'],\n",
    "            'metric': ['manhattan']}\n",
    "\n",
    "knn_CV = GridSearchCV(KNeighborsClassifier(), grid_knn_parameters, verbose = 1, cv = 7, n_jobs = -1,  scoring='roc_auc',)\n",
    "\n",
    "Knn_results = knn_CV.fit(X_train, y_train)"
   ]
  },
  {
   "cell_type": "code",
   "execution_count": 12,
   "metadata": {},
   "outputs": [
    {
     "name": "stdout",
     "output_type": "stream",
     "text": [
      "KNN grid search Best Parameters \n"
     ]
    },
    {
     "data": {
      "text/plain": [
       "{'metric': 'manhattan', 'n_neighbors': 19, 'p': 1, 'weights': 'distance'}"
      ]
     },
     "execution_count": 12,
     "metadata": {},
     "output_type": "execute_result"
    }
   ],
   "source": [
    "print(\"KNN grid search Best Parameters \")\n",
    "best_parameters_knn=Knn_results.best_params_\n",
    "best_parameters_knn"
   ]
  },
  {
   "cell_type": "code",
   "execution_count": 13,
   "metadata": {},
   "outputs": [],
   "source": [
    "best_para_Knn = KNeighborsClassifier(metric= 'manhattan', n_neighbors = 19, p = 1, weights = 'distance', algorithm ='auto')\n",
    "best_para_Knn.fit(X_train, y_train)\n",
    "Knn_value_y = best_para_Knn.predict(X_test)\n",
    "\n"
   ]
  },
  {
   "cell_type": "code",
   "execution_count": 14,
   "metadata": {
    "scrolled": true
   },
   "outputs": [
    {
     "data": {
      "image/png": "[encoded data removed]",
      "text/plain": [
       "<Figure size 432x288 with 1 Axes>"
      ]
     },
     "metadata": {
      "needs_background": "light"
     },
     "output_type": "display_data"
    }
   ],
   "source": [
    "import mglearn\n",
    "heatmap = mglearn.tools.heatmap(\n",
    "    confusion_matrix(y_pred = Knn_value_y, y_true = y_test), xlabel = 'Predicted label',\n",
    "    ylabel='True label', xticklabels = ['0','1'], yticklabels=['0','1'], cmap = \"RdYlGn\", fmt=\"%d\")\n",
    "plt.title(\"Confusion matrix (KNN)\")\n",
    "plt.gca().invert_yaxis()"
   ]
  },
  {
   "cell_type": "code",
   "execution_count": 15,
   "metadata": {},
   "outputs": [],
   "source": [
    "Summary_Knn= {'Type': 'K-nearest Neighbors (KNN) Classification Model', \n",
    "              'Training Score': best_para_Knn.score(X_train, y_train)*100,\n",
    "              'precision_score':precision_score(y_test, best_para_Knn.predict(X_test)),\n",
    "              'Testing Score':best_para_Knn.score(X_test, y_test)*100,\n",
    "              'recall_score':recall_score(y_test, best_para_Knn.predict(X_test)),\n",
    "              'f1 Score':f1_score(y_test, best_para_Knn.predict(X_test)),\n",
    "             'roc_auc': roc_auc_score(y_test,best_para_Knn.predict(X_test))};"
   ]
  },
  {
   "cell_type": "code",
   "execution_count": 16,
   "metadata": {},
   "outputs": [
    {
     "data": {
      "text/plain": [
       "{'Type': 'K-nearest Neighbors (KNN) Classification Model',\n",
       " 'Training Score': 100.0,\n",
       " 'precision_score': 0.23741007194244604,\n",
       " 'Testing Score': 64.85013623978202,\n",
       " 'recall_score': 0.5892857142857143,\n",
       " 'f1 Score': 0.3384615384615385,\n",
       " 'roc_auc': 0.6242248507119891}"
      ]
     },
     "execution_count": 16,
     "metadata": {},
     "output_type": "execute_result"
    }
   ],
   "source": [
    "Summary_Knn"
   ]
  },
  {
   "cell_type": "markdown",
   "metadata": {},
   "source": [
    "<h2>2. Logistic Regression</h2>"
   ]
  },
  {
   "cell_type": "markdown",
   "metadata": {},
   "source": [
    "# According to above graph, C=1 & l2 penalty, test accuracy is best."
   ]
  },
  {
   "cell_type": "markdown",
   "metadata": {},
   "source": [
    "<b>Applying Grid Search with Logistic Regression</b>"
   ]
  },
  {
   "cell_type": "code",
   "execution_count": 17,
   "metadata": {
    "scrolled": true
   },
   "outputs": [
    {
     "name": "stdout",
     "output_type": "stream",
     "text": [
      "Fitting 5 folds for each of 2388 candidates, totalling 11940 fits\n",
      "Logistic grid search Best parameters: \n"
     ]
    },
    {
     "data": {
      "text/plain": [
       "{'C': 10, 'max_iter': 12, 'penalty': 'l2'}"
      ]
     },
     "execution_count": 17,
     "metadata": {},
     "output_type": "execute_result"
    }
   ],
   "source": [
    "#logistic regression\n",
    "\n",
    "logistic = LogisticRegression(random_state=random_state)\n",
    "param_grid_logit = { 'max_iter' : range(1,200), 'penalty' : ['l2','l1'],\n",
    "            'C' : [0.001, 0.01, 0.1, 1, 10, 100]}\n",
    "logit_class_CV = GridSearchCV(estimator = logistic, param_grid = param_grid_logit, cv = 5, verbose = 1, n_jobs = -1, return_train_score = True,  scoring='roc_auc')\n",
    "GS_results_logit = logit_class_CV.fit(X_train, y_train)\n",
    "\n",
    "print(\"Logistic grid search Best parameters: \")\n",
    "best_parameters_logit = logit_class_CV.best_params_\n",
    "best_parameters_logit"
   ]
  },
  {
   "cell_type": "code",
   "execution_count": 18,
   "metadata": {},
   "outputs": [
    {
     "name": "stdout",
     "output_type": "stream",
     "text": [
      "Training score: 0.777\n",
      "Testing score: 0.703\n"
     ]
    }
   ],
   "source": [
    "best_para_logistic = LogisticRegression( C = 10, max_iter = 12, penalty ='l2', solver='liblinear',class_weight='balanced',random_state=random_state)\n",
    "\n",
    "best_para_logistic.fit(X_train,y_train)\n",
    "logistic_value_y = best_para_logistic.predict(X_test)\n",
    "\n",
    "print('Training score: {:.3f}'.format(best_para_logistic.score(X_train, y_train)))\n",
    "print('Testing score: {:.3f}'.format(best_para_logistic.score(X_test, y_test)))"
   ]
  },
  {
   "cell_type": "code",
   "execution_count": 19,
   "metadata": {},
   "outputs": [
    {
     "data": {
      "image/png": "[encoded data removed]",
      "text/plain": [
       "<Figure size 432x288 with 1 Axes>"
      ]
     },
     "metadata": {
      "needs_background": "light"
     },
     "output_type": "display_data"
    }
   ],
   "source": [
    "heatmap = mglearn.tools.heatmap(\n",
    "    confusion_matrix(y_pred = logistic_value_y, y_true = y_test), xlabel = 'Predicted label',\n",
    "    ylabel='True label', xticklabels = ['0','1'],yticklabels=['0','1'], cmap = \"RdYlGn\", fmt=\"%d\")\n",
    "plt.title(\"Confusion matrix (Logistic)\")\n",
    "plt.gca().invert_yaxis()"
   ]
  },
  {
   "cell_type": "code",
   "execution_count": 20,
   "metadata": {
    "scrolled": true
   },
   "outputs": [
    {
     "name": "stdout",
     "output_type": "stream",
     "text": [
      "Logistic grid search Best Score \n"
     ]
    },
    {
     "data": {
      "text/plain": [
       "0.833618030528753"
      ]
     },
     "execution_count": 20,
     "metadata": {},
     "output_type": "execute_result"
    }
   ],
   "source": [
    "print(\"Logistic grid search Best Score \")\n",
    "GS_results_logit.best_score_"
   ]
  },
  {
   "cell_type": "code",
   "execution_count": 21,
   "metadata": {},
   "outputs": [],
   "source": [
    "Summary_Logistic= {'Type': 'Logistic Regression', 'Train Score': best_para_logistic.score(X_train, y_train)*100,\n",
    "              'Testing Score':best_para_logistic.score(X_test, y_test)*100,\n",
    "                   'precision_score':precision_score(y_test, best_para_logistic.predict(X_test)),\n",
    "                   'recall_score':recall_score(y_test, best_para_logistic.predict(X_test)),\n",
    "              'f1 Score':f1_score(y_test, best_para_logistic.predict(X_test)),\n",
    "                   'roc_auc': roc_auc_score(y_test,best_para_logistic.predict(X_test))};"
   ]
  },
  {
   "cell_type": "code",
   "execution_count": 22,
   "metadata": {},
   "outputs": [
    {
     "data": {
      "text/plain": [
       "{'Type': 'Logistic Regression',\n",
       " 'Train Score': 77.72380291464262,\n",
       " 'Testing Score': 70.29972752043598,\n",
       " 'precision_score': 0.27350427350427353,\n",
       " 'recall_score': 0.5714285714285714,\n",
       " 'f1 Score': 0.3699421965317919,\n",
       " 'roc_auc': 0.6490583371612311}"
      ]
     },
     "execution_count": 22,
     "metadata": {},
     "output_type": "execute_result"
    }
   ],
   "source": [
    "Summary_Logistic"
   ]
  },
  {
   "cell_type": "markdown",
   "metadata": {},
   "source": [
    "<b>3. Linear Support Vector Machine Classifier</b>"
   ]
  },
  {
   "cell_type": "markdown",
   "metadata": {},
   "source": [
    "<b>Applying Grid Search with Linear Support Vector Machine Classifier</b>"
   ]
  },
  {
   "cell_type": "code",
   "execution_count": 23,
   "metadata": {},
   "outputs": [
    {
     "name": "stdout",
     "output_type": "stream",
     "text": [
      "Fitting 5 folds for each of 1393 candidates, totalling 6965 fits\n",
      "{'C': 1, 'max_iter': 36}\n"
     ]
    }
   ],
   "source": [
    "#SVM Linear\n",
    "param_linearSVM = { 'max_iter' : range(1,200),'C' : [ 0.001,0.01, 0.1, 1, 10, 100, 1000]}\n",
    "\n",
    "CV_linearSVM = GridSearchCV(estimator = LinearSVC(random_state=random_state), param_grid = param_linearSVM ,scoring='roc_auc',cv = 5, verbose = 1, n_jobs = -1, return_train_score = True)\n",
    "GS_results_linearSVM = CV_linearSVM.fit(X_train, y_train)\n",
    "\n",
    "best_parameters_linearSVM = CV_linearSVM.best_params_\n",
    "print(best_parameters_linearSVM)"
   ]
  },
  {
   "cell_type": "code",
   "execution_count": 24,
   "metadata": {},
   "outputs": [
    {
     "name": "stdout",
     "output_type": "stream",
     "text": [
      "Best score : Linear SVM grid search \n"
     ]
    },
    {
     "data": {
      "text/plain": [
       "0.8340635745926251"
      ]
     },
     "execution_count": 24,
     "metadata": {},
     "output_type": "execute_result"
    }
   ],
   "source": [
    "print(\"Best score : Linear SVM grid search \")\n",
    "GS_results_linearSVM.best_score_"
   ]
  },
  {
   "cell_type": "code",
   "execution_count": 25,
   "metadata": {},
   "outputs": [
    {
     "name": "stdout",
     "output_type": "stream",
     "text": [
      "Best parameters : Linear SVM grid search \n"
     ]
    },
    {
     "data": {
      "text/plain": [
       "{'C': 1, 'max_iter': 36}"
      ]
     },
     "execution_count": 25,
     "metadata": {},
     "output_type": "execute_result"
    }
   ],
   "source": [
    "print(\"Best parameters : Linear SVM grid search \")\n",
    "best_parameters_linearSVM"
   ]
  },
  {
   "cell_type": "markdown",
   "metadata": {},
   "source": [
    "<b> GridSearch for Linear SVM Classification with C=10 and max_iter=127</b>"
   ]
  },
  {
   "cell_type": "code",
   "execution_count": 26,
   "metadata": {},
   "outputs": [
    {
     "name": "stdout",
     "output_type": "stream",
     "text": [
      "Training score: 0.779\n",
      "Testing score: 0.700\n"
     ]
    }
   ],
   "source": [
    "#Gridsearch\n",
    "best_para_lin_SVM = LinearSVC(C = 1,max_iter = 36,random_state=random_state)\n",
    "best_para_lin_SVM.fit(X_train, y_train)\n",
    "SVM_value_y = best_para_lin_SVM.predict(X_test)\n",
    " \n",
    "print('Training score: {:.3f}'.format(best_para_lin_SVM.score(X_train, y_train)))\n",
    "print('Testing score: {:.3f}'.format(best_para_lin_SVM.score(X_test, y_test)))\n",
    "\n"
   ]
  },
  {
   "cell_type": "code",
   "execution_count": 27,
   "metadata": {},
   "outputs": [
    {
     "data": {
      "image/png": "[encoded data removed]",
      "text/plain": [
       "<Figure size 432x288 with 1 Axes>"
      ]
     },
     "metadata": {
      "needs_background": "light"
     },
     "output_type": "display_data"
    }
   ],
   "source": [
    "heatmap = mglearn.tools.heatmap(\n",
    "    confusion_matrix(y_pred = SVM_value_y, y_true = y_test), xlabel = 'Predicted label',\n",
    "    ylabel='True label', xticklabels = ['0','1'],yticklabels=['0','1'], cmap =\"RdYlGn\", fmt=\"%d\")\n",
    "plt.title(\"Confusion matrix Linear SVM\")\n",
    "plt.gca().invert_yaxis()\n",
    "\n"
   ]
  },
  {
   "cell_type": "code",
   "execution_count": 28,
   "metadata": {},
   "outputs": [],
   "source": [
    "Summary_lin_SVM= {'Type': 'Linear SVM', 'Train Score': best_para_lin_SVM.score(X_train, y_train)*100,\n",
    "              'Testing Score':best_para_lin_SVM.score(X_test, y_test)*100,\n",
    "                  'precision_score':precision_score(y_test, best_para_lin_SVM.predict(X_test)),\n",
    "                  'recall_score':recall_score(y_test, best_para_lin_SVM.predict(X_test)),\n",
    "              'f1 Score':f1_score(y_test, best_para_lin_SVM.predict(X_test)),\n",
    "                  'roc_auc': roc_auc_score(y_test,best_para_lin_SVM.predict(X_test))};"
   ]
  },
  {
   "cell_type": "code",
   "execution_count": 29,
   "metadata": {},
   "outputs": [
    {
     "data": {
      "text/plain": [
       "{'Type': 'Linear SVM',\n",
       " 'Train Score': 77.86259541984732,\n",
       " 'Testing Score': 70.02724795640327,\n",
       " 'precision_score': 0.275,\n",
       " 'recall_score': 0.5892857142857143,\n",
       " 'f1 Score': 0.375,\n",
       " 'roc_auc': 0.6547714745062012}"
      ]
     },
     "execution_count": 29,
     "metadata": {},
     "output_type": "execute_result"
    }
   ],
   "source": [
    "Summary_lin_SVM"
   ]
  },
  {
   "cell_type": "markdown",
   "metadata": {},
   "source": [
    "<h2>4.Kerenilzed Support Vector Machine (rbf, poly, and linear)</h2>"
   ]
  },
  {
   "cell_type": "markdown",
   "metadata": {},
   "source": [
    "<b> GridSearch for Kerenilzed Support Vector Machine (rbf, poly, and linear) </b>"
   ]
  },
  {
   "cell_type": "code",
   "execution_count": 30,
   "metadata": {},
   "outputs": [],
   "source": [
    "#SVM with kernels\n",
    "kernelSVC_parameters = {'C':[0.001, 0.01, 0.1, 1, 10, 100],'gamma':[0.001, 0.01, 0.1, 1, 10, 100], 'kernel':['rbf','poly','linear']}"
   ]
  },
  {
   "cell_type": "code",
   "execution_count": 31,
   "metadata": {},
   "outputs": [
    {
     "data": {
      "text/plain": [
       "GridSearchCV(cv=5, estimator=SVC(random_state=42), n_jobs=-1,\n",
       "             param_grid={'C': [0.001, 0.01, 0.1, 1, 10, 100],\n",
       "                         'gamma': [0.001, 0.01, 0.1, 1, 10, 100],\n",
       "                         'kernel': ['rbf', 'poly', 'linear']},\n",
       "             return_train_score=True, scoring='roc_auc')"
      ]
     },
     "execution_count": 31,
     "metadata": {},
     "output_type": "execute_result"
    }
   ],
   "source": [
    "from sklearn.model_selection import GridSearchCV\n",
    "\n",
    "KernelSVC = SVC(random_state=random_state)\n",
    "GS_KernelSVC = GridSearchCV(KernelSVC, kernelSVC_parameters, cv = 5, return_train_score= True, n_jobs= -1, scoring='roc_auc')\n",
    "GS_KernelSVC.fit(X_train,y_train)\n"
   ]
  },
  {
   "cell_type": "code",
   "execution_count": 32,
   "metadata": {},
   "outputs": [
    {
     "name": "stdout",
     "output_type": "stream",
     "text": [
      "Best score : KernelSVM grid search \n"
     ]
    },
    {
     "data": {
      "text/plain": [
       "0.99"
      ]
     },
     "execution_count": 32,
     "metadata": {},
     "output_type": "execute_result"
    }
   ],
   "source": [
    "print(\"Best score : KernelSVM grid search \")\n",
    "round(GS_KernelSVC.best_score_,2)"
   ]
  },
  {
   "cell_type": "code",
   "execution_count": 33,
   "metadata": {
    "scrolled": true
   },
   "outputs": [
    {
     "name": "stdout",
     "output_type": "stream",
     "text": [
      "Best parameters- KernelSVM grid search \n"
     ]
    },
    {
     "data": {
      "text/plain": [
       "{'C': 0.001, 'gamma': 100, 'kernel': 'rbf'}"
      ]
     },
     "execution_count": 33,
     "metadata": {},
     "output_type": "execute_result"
    }
   ],
   "source": [
    "print(\"Best parameters- KernelSVM grid search \")\n",
    "GS_KernelSVC.best_params_"
   ]
  },
  {
   "cell_type": "markdown",
   "metadata": {},
   "source": [
    "<h1> kernel = rbf </h1>"
   ]
  },
  {
   "cell_type": "code",
   "execution_count": 34,
   "metadata": {},
   "outputs": [
    {
     "name": "stdout",
     "output_type": "stream",
     "text": [
      "[LibSVM]"
     ]
    }
   ],
   "source": [
    "#svm with rbf\n",
    "best_para_svm = SVC(C = 0.1, gamma = 100, kernel = 'rbf', verbose = 1,random_state=random_state)\n",
    "\n",
    "best_para_svm.fit(X_train,y_train)\n",
    "SVM_value_y = best_para_svm.predict(X_test)"
   ]
  },
  {
   "cell_type": "code",
   "execution_count": 35,
   "metadata": {
    "scrolled": true
   },
   "outputs": [
    {
     "data": {
      "image/png": "[encoded data removed]",
      "text/plain": [
       "<Figure size 432x288 with 1 Axes>"
      ]
     },
     "metadata": {
      "needs_background": "light"
     },
     "output_type": "display_data"
    }
   ],
   "source": [
    "%matplotlib inline\n",
    "\n",
    "heatmap = mglearn.tools.heatmap(\n",
    "    confusion_matrix(y_pred = SVM_value_y, y_true = y_test), xlabel = 'Predicted label',\n",
    "    ylabel='True label', xticklabels = ['0','1'], yticklabels=['0','1'], cmap = \"RdYlGn\", fmt = \"%d\")\n",
    "plt.title(\"Confusion matrix (rbf)\")\n",
    "plt.gca().invert_yaxis()"
   ]
  },
  {
   "cell_type": "code",
   "execution_count": 36,
   "metadata": {},
   "outputs": [],
   "source": [
    "Summary_Kernelized= {'Type': 'Kernalized rbf ', 'Train Score': best_para_svm.score(X_train, y_train)*100,\n",
    "              'Testing Score':best_para_svm.score(X_test, y_test)*100,\n",
    "                'precision_score':precision_score(y_test, best_para_svm.predict(X_test)),\n",
    "                     'recall_score':recall_score(y_test, best_para_svm.predict(X_test)),\n",
    "              'f1 Score':f1_score(y_test, best_para_svm.predict(X_test)),\n",
    "                'roc_auc': roc_auc_score(y_test,best_para_svm.predict(X_test))};"
   ]
  },
  {
   "cell_type": "code",
   "execution_count": 37,
   "metadata": {},
   "outputs": [
    {
     "data": {
      "text/plain": [
       "{'Type': 'Kernalized rbf ',\n",
       " 'Train Score': 53.71269951422624,\n",
       " 'Testing Score': 84.74114441416893,\n",
       " 'precision_score': 0.0,\n",
       " 'recall_score': 0.0,\n",
       " 'f1 Score': 0.0,\n",
       " 'roc_auc': 0.5}"
      ]
     },
     "execution_count": 37,
     "metadata": {},
     "output_type": "execute_result"
    }
   ],
   "source": [
    "Summary_Kernelized"
   ]
  },
  {
   "cell_type": "markdown",
   "metadata": {},
   "source": [
    "<b>5.Decision Tree Classification.</b>"
   ]
  },
  {
   "cell_type": "markdown",
   "metadata": {},
   "source": [
    "<b>Grid Search with Decision Tree Classifier</b>"
   ]
  },
  {
   "cell_type": "code",
   "execution_count": 38,
   "metadata": {
    "scrolled": true
   },
   "outputs": [
    {
     "name": "stdout",
     "output_type": "stream",
     "text": [
      "Fitting 7 folds for each of 480 candidates, totalling 3360 fits\n",
      "{'criterion': 'entropy', 'max_depth': 12, 'min_samples_leaf': 2, 'min_samples_split': 2}\n"
     ]
    }
   ],
   "source": [
    "#decision tree classifier\n",
    "param_grid_dtree = {'max_depth': range(10,20),'criterion':['gini','entropy'],'min_samples_leaf' : range(2,10), 'min_samples_split': range(2,5)}\n",
    "\n",
    "CV_dtrees = GridSearchCV(estimator = DecisionTreeClassifier(random_state=random_state), cv = 7, param_grid = param_grid_dtree , verbose = 1, n_jobs = -1,scoring='roc_auc')\n",
    "GS_results_dtrees = CV_dtrees.fit(X_train, y_train)\n",
    "best_parameters_dtrees = CV_dtrees.best_params_\n",
    "print(best_parameters_dtrees)\n",
    "\n"
   ]
  },
  {
   "cell_type": "code",
   "execution_count": 39,
   "metadata": {},
   "outputs": [
    {
     "name": "stdout",
     "output_type": "stream",
     "text": [
      "Best score : Decision Tree grid search \n"
     ]
    },
    {
     "data": {
      "text/plain": [
       "0.94"
      ]
     },
     "execution_count": 39,
     "metadata": {},
     "output_type": "execute_result"
    }
   ],
   "source": [
    "print(\"Best score : Decision Tree grid search \")\n",
    "round(GS_results_dtrees.best_score_,2)"
   ]
  },
  {
   "cell_type": "code",
   "execution_count": 40,
   "metadata": {},
   "outputs": [
    {
     "name": "stdout",
     "output_type": "stream",
     "text": [
      "Best parameters : Decision Tree grid search \n"
     ]
    },
    {
     "data": {
      "text/plain": [
       "{'criterion': 'entropy',\n",
       " 'max_depth': 12,\n",
       " 'min_samples_leaf': 2,\n",
       " 'min_samples_split': 2}"
      ]
     },
     "execution_count": 40,
     "metadata": {},
     "output_type": "execute_result"
    }
   ],
   "source": [
    "print(\"Best parameters : Decision Tree grid search \")\n",
    "GS_results_dtrees.best_params_"
   ]
  },
  {
   "cell_type": "code",
   "execution_count": 41,
   "metadata": {},
   "outputs": [
    {
     "name": "stdout",
     "output_type": "stream",
     "text": [
      "Training score: 0.991\n",
      "Testing score: 0.809\n"
     ]
    }
   ],
   "source": [
    "best_dtree = BaggingClassifier(DecisionTreeClassifier(criterion='entropy', max_depth=12, min_samples_leaf=2,min_samples_split=2,random_state=random_state),max_samples=0.5,n_estimators=200,bootstrap=True, n_jobs=-1,random_state=random_state)\n",
    "\n",
    "best_dtree.fit(X_train, y_train)\n",
    "dtree_value_y = best_dtree.predict(X_test)\n",
    "\n",
    "print('Training score: {:.3f}'.format(best_dtree.score(X_train, y_train)))\n",
    "print('Testing score: {:.3f}'.format(best_dtree.score(X_test, y_test)))"
   ]
  },
  {
   "cell_type": "code",
   "execution_count": 42,
   "metadata": {},
   "outputs": [
    {
     "data": {
      "image/png": "[encoded data removed]",
      "text/plain": [
       "<Figure size 432x288 with 1 Axes>"
      ]
     },
     "metadata": {
      "needs_background": "light"
     },
     "output_type": "display_data"
    }
   ],
   "source": [
    "%matplotlib inline\n",
    "\n",
    "heatmap = mglearn.tools.heatmap(\n",
    "    confusion_matrix(y_pred = dtree_value_y, y_true = y_test), xlabel = 'Predicted label',\n",
    "    ylabel='True label', xticklabels = ['0','1'],yticklabels=['0','1'], cmap = \"RdYlGn\", fmt=\"%d\")\n",
    "plt.title(\"Confusion matrix (Decision Tree)'0','1'\")\n",
    "\n",
    "plt.gca().invert_yaxis()"
   ]
  },
  {
   "cell_type": "code",
   "execution_count": 43,
   "metadata": {},
   "outputs": [],
   "source": [
    "Summary_dtree= {'Type': 'Decision Tree', 'Train Score': best_dtree.score(X_train, y_train)*100,\n",
    "              'Testing Score':best_dtree.score(X_test, y_test)*100,\n",
    "                'precision_score':precision_score(y_test, best_dtree.predict(X_test)),\n",
    "                'recall_score':recall_score(y_test, best_dtree.predict(X_test)),\n",
    "              'f1 Score':f1_score(y_test, best_dtree.predict(X_test)),\n",
    "               'roc_auc': roc_auc_score(y_test,best_dtree.predict(X_test))};"
   ]
  },
  {
   "cell_type": "code",
   "execution_count": 44,
   "metadata": {},
   "outputs": [
    {
     "data": {
      "text/plain": [
       "{'Type': 'Decision Tree',\n",
       " 'Train Score': 99.09784871616932,\n",
       " 'Testing Score': 80.92643051771117,\n",
       " 'precision_score': 0.3939393939393939,\n",
       " 'recall_score': 0.4642857142857143,\n",
       " 'f1 Score': 0.4262295081967213,\n",
       " 'roc_auc': 0.6678341754708315}"
      ]
     },
     "execution_count": 44,
     "metadata": {},
     "output_type": "execute_result"
    }
   ],
   "source": [
    "Summary_dtree"
   ]
  },
  {
   "cell_type": "markdown",
   "metadata": {},
   "source": [
    "<h1>Comparing All Models</h1>"
   ]
  },
  {
   "cell_type": "code",
   "execution_count": 45,
   "metadata": {},
   "outputs": [
    {
     "data": {
      "text/plain": [
       "{'Type': 'K-nearest Neighbors (KNN) Classification Model',\n",
       " 'Training Score': 100.0,\n",
       " 'precision_score': 0.23741007194244604,\n",
       " 'Testing Score': 64.85013623978202,\n",
       " 'recall_score': 0.5892857142857143,\n",
       " 'f1 Score': 0.3384615384615385,\n",
       " 'roc_auc': 0.6242248507119891}"
      ]
     },
     "execution_count": 45,
     "metadata": {},
     "output_type": "execute_result"
    }
   ],
   "source": [
    "Summary_Knn"
   ]
  },
  {
   "cell_type": "code",
   "execution_count": 46,
   "metadata": {},
   "outputs": [
    {
     "data": {
      "text/plain": [
       "{'Type': 'Logistic Regression',\n",
       " 'Train Score': 77.72380291464262,\n",
       " 'Testing Score': 70.29972752043598,\n",
       " 'precision_score': 0.27350427350427353,\n",
       " 'recall_score': 0.5714285714285714,\n",
       " 'f1 Score': 0.3699421965317919,\n",
       " 'roc_auc': 0.6490583371612311}"
      ]
     },
     "execution_count": 46,
     "metadata": {},
     "output_type": "execute_result"
    }
   ],
   "source": [
    "Summary_Logistic"
   ]
  },
  {
   "cell_type": "code",
   "execution_count": 47,
   "metadata": {
    "scrolled": true
   },
   "outputs": [
    {
     "data": {
      "text/plain": [
       "{'Type': 'Linear SVM',\n",
       " 'Train Score': 77.86259541984732,\n",
       " 'Testing Score': 70.02724795640327,\n",
       " 'precision_score': 0.275,\n",
       " 'recall_score': 0.5892857142857143,\n",
       " 'f1 Score': 0.375,\n",
       " 'roc_auc': 0.6547714745062012}"
      ]
     },
     "execution_count": 47,
     "metadata": {},
     "output_type": "execute_result"
    }
   ],
   "source": [
    "Summary_lin_SVM"
   ]
  },
  {
   "cell_type": "code",
   "execution_count": 48,
   "metadata": {},
   "outputs": [
    {
     "data": {
      "text/plain": [
       "{'Type': 'Kernalized rbf ',\n",
       " 'Train Score': 53.71269951422624,\n",
       " 'Testing Score': 84.74114441416893,\n",
       " 'precision_score': 0.0,\n",
       " 'recall_score': 0.0,\n",
       " 'f1 Score': 0.0,\n",
       " 'roc_auc': 0.5}"
      ]
     },
     "execution_count": 48,
     "metadata": {},
     "output_type": "execute_result"
    }
   ],
   "source": [
    "Summary_Kernelized"
   ]
  },
  {
   "cell_type": "code",
   "execution_count": 49,
   "metadata": {},
   "outputs": [
    {
     "data": {
      "text/plain": [
       "{'Type': 'Decision Tree',\n",
       " 'Train Score': 99.09784871616932,\n",
       " 'Testing Score': 80.92643051771117,\n",
       " 'precision_score': 0.3939393939393939,\n",
       " 'recall_score': 0.4642857142857143,\n",
       " 'f1 Score': 0.4262295081967213,\n",
       " 'roc_auc': 0.6678341754708315}"
      ]
     },
     "execution_count": 49,
     "metadata": {},
     "output_type": "execute_result"
    }
   ],
   "source": [
    "Summary_dtree"
   ]
  },
  {
   "cell_type": "markdown",
   "metadata": {},
   "source": [
    "# Best model ( 5 points)\n",
    "Explain which machine learning model is the best model for this dataset and why? "
   ]
  },
  {
   "cell_type": "markdown",
   "metadata": {},
   "source": [
    "# Linear SVM Model is the best model for this dataset \n",
    "\n",
    "Here, Our dataset is highly inbalanced (~4:1). \n",
    "\n",
    "- Testing score for 'RBF model' is very high, however, the model actually predicting all class labels as zero. This supports the fact that for unbalanced data accuracy is not best parameter to decide quality of the model.\n",
    "\n",
    "- Logistic and Linear SVM model has good recall(~60%), however, these models have less precision(<30%). These suggests that models are predicting many false positives, hence, none of those is the best model.\n",
    "\n",
    "- 'Decision Tree' model has the highest f1-score. Despite having lesser recall than some other models, it has the highest precision among all the models. Hence, 'Decision Model' is the best model for this dataset. \n",
    "\n",
    "\n"
   ]
  },
  {
   "cell_type": "code",
   "execution_count": 50,
   "metadata": {},
   "outputs": [],
   "source": [
    "best_model = best_dtree"
   ]
  },
  {
   "cell_type": "code",
   "execution_count": 51,
   "metadata": {},
   "outputs": [
    {
     "data": {
      "text/plain": [
       "BaggingClassifier(base_estimator=DecisionTreeClassifier(criterion='entropy',\n",
       "                                                        max_depth=12,\n",
       "                                                        min_samples_leaf=2,\n",
       "                                                        random_state=42),\n",
       "                  max_samples=0.5, n_estimators=200, n_jobs=-1,\n",
       "                  random_state=42)"
      ]
     },
     "execution_count": 51,
     "metadata": {},
     "output_type": "execute_result"
    }
   ],
   "source": [
    "best_model"
   ]
  },
  {
   "cell_type": "code",
   "execution_count": 52,
   "metadata": {},
   "outputs": [],
   "source": [
    " final_test_prediction = best_model.predict(test)"
   ]
  },
  {
   "cell_type": "code",
   "execution_count": 53,
   "metadata": {
    "scrolled": true
   },
   "outputs": [
    {
     "data": {
      "text/plain": [
       "array([0, 1, 0, 1, 0, 1, 0, 0, 0, 0, 0, 0, 1, 0, 0, 0, 0, 1, 0, 0, 0, 0,\n",
       "       0, 0, 0, 1, 0, 0, 0, 0, 0, 0, 0, 0, 0, 0, 0, 0, 0, 0, 0, 0, 0, 0,\n",
       "       0, 0, 0, 0, 0, 1, 0, 1, 0, 0, 1, 0, 0, 0, 0, 0, 1, 1, 1, 0, 0, 0,\n",
       "       0, 0, 1, 1, 0, 0, 0, 0, 0, 0, 0, 0, 0, 1, 0, 0, 0, 0, 0, 0, 0, 0,\n",
       "       0, 0, 0, 0, 0, 0, 0, 1, 1, 1, 0, 0, 0, 0, 0, 0, 0, 0, 1, 0, 0, 0,\n",
       "       0, 0, 0, 0, 0, 0, 0, 0, 0, 1, 1, 0, 0, 1, 0, 0, 0, 0, 0, 0, 0, 0,\n",
       "       0, 0, 0, 1, 0, 0, 1, 1, 1, 1, 1, 0, 0, 1, 0, 1, 0, 0, 0, 0, 0, 1,\n",
       "       0, 1, 0, 1, 1, 0, 0, 0, 0, 0, 1, 1, 0, 0, 0, 1, 0, 1, 1, 1, 0, 0,\n",
       "       0, 0, 0, 0, 0, 0, 0, 0, 1, 0, 0, 0, 0, 0, 1, 0, 0, 0, 0, 0, 1, 1,\n",
       "       0, 0, 0, 0, 0, 0, 0, 0, 1, 0, 1, 0, 0, 0, 0, 0, 1, 0, 0, 0, 0, 1,\n",
       "       0, 0, 0, 0, 0, 0, 1, 1, 0, 1, 1, 0, 1, 0, 0, 0, 0, 0, 0, 0, 0, 0,\n",
       "       0, 1, 0, 0, 0, 0, 0, 1, 0, 0, 0, 0, 0, 1, 0, 0, 0, 0, 0, 0, 1, 0,\n",
       "       0, 1, 0, 0, 0, 1, 0, 0, 1, 0, 0, 0, 0, 0, 0, 0, 0, 0, 0, 0, 1, 1,\n",
       "       1, 0, 0, 0, 0, 0, 1, 0, 0, 0, 0, 0, 0, 1, 0, 0, 0, 1, 0, 0, 0, 0,\n",
       "       0, 0, 0, 0, 0, 0, 0, 0, 0, 0, 0, 0, 0, 1, 0, 0, 0, 0, 0, 0, 1, 0,\n",
       "       0, 1, 0, 0, 1, 0, 0, 0, 0, 0, 0, 0, 0, 1, 0, 1, 0, 0, 0, 0, 0, 0,\n",
       "       0, 0, 0, 0, 0, 0, 0, 0, 0, 1, 0, 0, 0, 0, 0, 0, 0, 0, 0, 0, 1, 0,\n",
       "       0, 0, 0, 0, 0, 0, 0, 0, 1, 0, 1, 0, 0, 0, 0, 0, 0, 0, 0, 0, 1, 0,\n",
       "       0, 0, 0, 1, 0, 1, 1, 0, 0, 0, 0, 0, 1, 0, 1, 1, 0, 0, 0, 0, 1, 0,\n",
       "       0, 0, 0, 1, 1, 1, 0])"
      ]
     },
     "execution_count": 53,
     "metadata": {},
     "output_type": "execute_result"
    }
   ],
   "source": [
    "final_test_prediction"
   ]
  },
  {
   "cell_type": "code",
   "execution_count": 54,
   "metadata": {},
   "outputs": [],
   "source": [
    "# len(final_test_prediction)"
   ]
  }
 ],
 "metadata": {
  "kernelspec": {
   "display_name": "Python 3",
   "language": "python",
   "name": "python3"
  },
  "language_info": {
   "codemirror_mode": {
    "name": "ipython",
    "version": 3
   },
   "file_extension": ".py",
   "mimetype": "text/x-python",
   "name": "python",
   "nbconvert_exporter": "python",
   "pygments_lexer": "ipython3",
   "version": "3.8.5"
  }
 },
 "nbformat": 4,
 "nbformat_minor": 4
}
